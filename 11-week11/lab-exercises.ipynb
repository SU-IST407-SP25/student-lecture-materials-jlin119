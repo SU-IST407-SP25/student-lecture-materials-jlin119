{
 "cells": [
  {
   "cell_type": "markdown",
   "metadata": {},
   "source": [
    "## Exercise 1\n",
    "\n",
    "Implement the following function to calculate gini_impurity.\n",
    "\n",
    "**HINT**\n",
    "\n",
    "You can count the number of instance of an item in a list like this: "
   ]
  },
  {
   "cell_type": "code",
   "execution_count": 12,
   "metadata": {},
   "outputs": [
    {
     "data": {
      "text/plain": [
       "2"
      ]
     },
     "execution_count": 12,
     "metadata": {},
     "output_type": "execute_result"
    }
   ],
   "source": [
    "fruit = ['apple','pear','banana','apple']\n",
    "fruit.count('apple')"
   ]
  },
  {
   "cell_type": "code",
   "execution_count": 12,
   "metadata": {},
   "outputs": [
    {
     "data": {
      "text/plain": [
       "0.4444444444444444"
      ]
     },
     "execution_count": 12,
     "metadata": {},
     "output_type": "execute_result"
    }
   ],
   "source": [
    "import pandas as pd\n",
    "import numpy as np\n",
    "\n",
    "def gini_impurity(groups, classes):\n",
    "    \"\"\"Calculate gini impurity for a list of groups\n",
    "    \n",
    "    Parameters:\n",
    "    groups -- A list of lists, where each inner list contains the class values for that group\n",
    "              For example: [[True,False,True], [False,False,True]]\n",
    "    classes -- A list of possible class values, e.g. [True, False] or ['Yes', 'No']\n",
    "    \n",
    "    Returns:\n",
    "    float -- The gini impurity score\n",
    "    \"\"\"\n",
    "    total = sum(len(group) for group in groups)\n",
    "    gini = 0.0 \n",
    "\n",
    "    for group in groups:\n",
    "        instances = len(group)\n",
    "        if instances == 0:\n",
    "            continue\n",
    "        \n",
    "        score = 0.0\n",
    "        for cat in classes:\n",
    "            proportion = group.count(cat) / instances\n",
    "            score += proportion ** 2 # purity\n",
    "        \n",
    "        group_impurity = 1 - score\n",
    "        gini += group_impurity * (instances / total)\n",
    "\n",
    "    return gini\n",
    "\n",
    "\n",
    "gini_impurity([[True,False,True], [False,False,True]],[True, False])\n",
    "\n",
    "#  Should equal 0.4444"
   ]
  },
  {
   "cell_type": "markdown",
   "metadata": {},
   "source": [
    "## Exercise 2\n",
    "\n",
    "Consider the following data:\n",
    "\n",
    "| Tid | Refund | Marital Status | Taxable Income (K) | Cheat |\n",
    "|-----|--------|----------------|--------------------|-------|\n",
    "| 1   | Yes    | Single         | 125                | No    |\n",
    "| 2   | No     | Married        | 100                | No    |\n",
    "| 3   | No     | Single         | 70                 | No    |\n",
    "| 4   | Yes    | Married        | 120                | No    |\n",
    "| 5   | No     | Divorced       | 95                 | Yes   |\n",
    "| 6   | No     | Married        | 60                 | No    |\n",
    "| 7   | Yes    | Divorced       | 220                | No    |\n",
    "| 8   | No     | Single         | 85                 | Yes   |\n",
    "| 9   | No     | Married        | 75                 | No    |\n",
    "| 10  | No     | Single         | 90                 | Yes   |\n",
    "\n",
    "Use the gini impurity method you implemented above to find the best split in the data.  You'll need to complete the \"find_best_split\" function."
   ]
  },
  {
   "cell_type": "markdown",
   "metadata": {},
   "source": [
    "First, we set up the data..."
   ]
  },
  {
   "cell_type": "code",
   "execution_count": 3,
   "metadata": {},
   "outputs": [],
   "source": [
    "import pandas as pd\n",
    "import numpy as np\n",
    "\n",
    "# Sample data provided\n",
    "data = {\n",
    "    'Refund': ['Yes', 'No', 'No', 'Yes', 'No', 'No', 'Yes', 'No', 'No', 'No'],\n",
    "    'Marital Status': ['Single', 'Married', 'Single', 'Married', 'Divorced', 'Married', 'Divorced', 'Single', 'Married', 'Single'],\n",
    "    'Taxable Income (K)': [125, 100, 70, 120, 95, 60, 220, 85, 75, 90],\n",
    "    'Cheat': ['No', 'No', 'No', 'No', 'Yes', 'No', 'No', 'Yes', 'No', 'Yes']\n",
    "}\n",
    "\n",
    "# Create a DataFrame\n",
    "df = pd.DataFrame(data)"
   ]
  },
  {
   "cell_type": "markdown",
   "metadata": {},
   "source": [
    "Implement the following function to calculate gini impurity..."
   ]
  },
  {
   "cell_type": "code",
   "execution_count": null,
   "metadata": {},
   "outputs": [],
   "source": [
    "\n",
    "# # Function to calculate Gini impurity\n",
    "# # Here, groups is going to just be a list of \n",
    "# def gini_impurity(groups, classes):\n",
    "#     # IMPLEMENT ME!!!\n",
    "#     gini = None\n",
    "#     return gini"
   ]
  },
  {
   "cell_type": "markdown",
   "metadata": {},
   "source": [
    "The following helper function splits a data into two sets of rows based on a column value."
   ]
  },
  {
   "cell_type": "code",
   "execution_count": 4,
   "metadata": {},
   "outputs": [],
   "source": [
    "def split_data(df, column, split_value, target):\n",
    "    \"\"\"Split a dataframe into two groups based on a column and value\n",
    "    \n",
    "    Parameters:\n",
    "    df -- The pandas dataframe\n",
    "    column -- The column name to split on\n",
    "    split_value -- The value to split on\n",
    "    target - the column with the values to extract\n",
    "    \n",
    "    Returns:\n",
    "    tuple -- Two lists containing the target values for each group\n",
    "    \"\"\"\n",
    "    if pd.api.types.is_numeric_dtype(df[column]):\n",
    "        mask = df[column] <= split_value\n",
    "    else:\n",
    "        mask = df[column] == split_value\n",
    "        \n",
    "    left_group = df[mask][target].tolist()\n",
    "    right_group = df[~mask][target].tolist()\n",
    "    \n",
    "    return left_group, right_group\n"
   ]
  },
  {
   "cell_type": "markdown",
   "metadata": {},
   "source": [
    "The following cell can be used to generate candidate splits for continuous columns."
   ]
  },
  {
   "cell_type": "code",
   "execution_count": 7,
   "metadata": {},
   "outputs": [
    {
     "data": {
      "text/plain": [
       "array([37.5, 50. , 62.5])"
      ]
     },
     "execution_count": 7,
     "metadata": {},
     "output_type": "execute_result"
    }
   ],
   "source": [
    "# Function to get quartiles for continuous variables\n",
    "def get_quartiles(series):\n",
    "    return np.percentile(series, [25, 50, 75])\n",
    "get_quartiles([25, 50, 75])"
   ]
  },
  {
   "cell_type": "markdown",
   "metadata": {},
   "source": [
    "Ok, you need to complete the following!"
   ]
  },
  {
   "cell_type": "code",
   "execution_count": 8,
   "metadata": {},
   "outputs": [],
   "source": [
    "# Function to find the best split given a target column\n",
    "def find_best_split(df,target):\n",
    "    \"\"\"Find the best split in a dataframe\n",
    "    \n",
    "    Parameters:\n",
    "    df -- The pandas dataframe\n",
    "    target -- The column to use as the output target\n",
    "    \n",
    "    Returns:\n",
    "    dict -- The best split information\n",
    "    \"\"\"\n",
    "    class_values = list(df[target].unique())\n",
    "    best_column = None\n",
    "    best_value = None\n",
    "    best_gini = float('inf')\n",
    "    best_groups = None\n",
    "    \n",
    "    # Try each column except the target\n",
    "    for column in [c for c in df.columns if c != target]: # makes a list of columns that aren't the target\n",
    "        if pd.api.types.is_numeric_dtype(df[column]):\n",
    "            # For numeric columns, try quartile splits\n",
    "            split_candidates = get_quartiles(df[column])\n",
    "        else:\n",
    "            # For categorical columns, try each unique value\n",
    "            split_candidates = df[column].unique()\n",
    "            \n",
    "        for value in split_candidates:\n",
    "            # FILL IN THE CODE HERE\n",
    "            # This code should:\n",
    "            # -- Go through each split candidate\n",
    "            # -- Calculate gini_impurity\n",
    "            # -- If its better than the best known thus far, \n",
    "            # -- Update best_column, best_value, best_gini, and best_groups\n",
    "            left, right = split_data(df, column, value, target)\n",
    "            gini = gini_impurity([left, right], class_values)\n",
    "\n",
    "            if gini < best_gini:\n",
    "                best_gini = gini\n",
    "                best_column = column\n",
    "                best_value = value\n",
    "                best_groups = [left, right]\n",
    "    \n",
    "    return {\n",
    "        'column': best_column,\n",
    "        'value': best_value,\n",
    "        'gini': best_gini,\n",
    "        'groups': best_groups\n",
    "    }\n"
   ]
  },
  {
   "cell_type": "markdown",
   "metadata": {},
   "source": [
    "Finally, find the best split."
   ]
  },
  {
   "cell_type": "code",
   "execution_count": 13,
   "metadata": {},
   "outputs": [
    {
     "name": "stdout",
     "output_type": "stream",
     "text": [
      "Best Split: Column Marital Status with value Married gini score = 0.3\n"
     ]
    }
   ],
   "source": [
    "target = \"Cheat\"\n",
    "best_split = find_best_split(df,target)\n",
    "print('Best Split: Column', best_split['column'], 'with value', best_split['value'], 'gini score =', best_split['gini'])"
   ]
  },
  {
   "cell_type": "markdown",
   "metadata": {},
   "source": [
    "## Exercise 3\n",
    "\n",
    "Use the following to calculate the entire decision tree!  Evaluate the decision tree by hand using accuracy."
   ]
  },
  {
   "cell_type": "code",
   "execution_count": 19,
   "metadata": {},
   "outputs": [
    {
     "data": {
      "text/plain": [
       "'No'"
      ]
     },
     "execution_count": 19,
     "metadata": {},
     "output_type": "execute_result"
    }
   ],
   "source": [
    "df[\"Cheat\"].mode().iloc[0]"
   ]
  },
  {
   "cell_type": "code",
   "execution_count": 23,
   "metadata": {},
   "outputs": [],
   "source": [
    "def build_tree(df, target, depth=0, max_depth=3, min_samples=2):\n",
    "    \"\"\"Build and print a decision tree using recursive splitting\n",
    "    \n",
    "    Parameters:\n",
    "    df -- The pandas dataframe\n",
    "    depth -- Current depth in the tree (used for indentation)\n",
    "    max_depth -- Maximum depth to grow the tree\n",
    "    min_samples -- Minimum samples required to split\n",
    "    \"\"\"\n",
    "    # If all samples have same class, print the result and stop\n",
    "    if len(df[target].unique()) == 1: # only 1 class\n",
    "        print('    ' * depth + f\"Predict: {df[target].iloc[0]}\") # '   ' * depth creates the indents\n",
    "        return # ends the recursion\n",
    "        \n",
    "    # If we hit max depth or min samples, print majority class and stop\n",
    "    # don't process splits that have a group size less than min_samples\n",
    "    if depth >= max_depth or len(df) < min_samples:\n",
    "        majority_class = df[target].mode().iloc[0]\n",
    "        print('    ' * depth + f\"Predict: {majority_class}\")\n",
    "        return # ends the recursion\n",
    "        \n",
    "    # Find the best split\n",
    "    split = find_best_split(df,target)\n",
    "    column = split['column']\n",
    "    value = split['value']\n",
    "    \n",
    "    # If we couldn't find a good split, stop here\n",
    "    # protection\n",
    "    if column is None:\n",
    "        majority_class = df[target].mode().iloc[0]\n",
    "        print('    ' * depth + f\"Predict: {majority_class}\")\n",
    "        return # end recursion based on the majority class\n",
    "    \n",
    "    # Print this split decision\n",
    "    if pd.api.types.is_numeric_dtype(df[column]):\n",
    "        print('    ' * depth + f\"If {column} <= {value}:\")\n",
    "    else:\n",
    "        print('    ' * depth + f\"If {column} == {value}:\")\n",
    "    \n",
    "    # Split the data\n",
    "    if pd.api.types.is_numeric_dtype(df[column]):\n",
    "        # selection of rows\n",
    "        left_mask = df[column] <= value # list of T/F\n",
    "    else:\n",
    "        left_mask = df[column] == value\n",
    "        \n",
    "    # Recursively build tree for each split\n",
    "    left_data = df[left_mask]\n",
    "    right_data = df[~left_mask] # not\n",
    "    \n",
    "    # Process left branch\n",
    "    build_tree(left_data, target, depth + 1, max_depth, min_samples)\n",
    "    # depth + 1 records the next branch's depth\n",
    "    \n",
    "    # Print the \"else\" for this split, the other class\n",
    "    if pd.api.types.is_numeric_dtype(df[column]):\n",
    "        print('    ' * depth + f\"If {column} > {value}:\")\n",
    "    else:\n",
    "        print('    ' * depth + f\"If {column} != {value}:\")\n",
    "    \n",
    "    # Process right branch\n",
    "    build_tree(right_data, target, depth + 1, max_depth, min_samples)\n"
   ]
  },
  {
   "cell_type": "code",
   "execution_count": 15,
   "metadata": {},
   "outputs": [
    {
     "name": "stdout",
     "output_type": "stream",
     "text": [
      "If Marital Status == Married:\n",
      "    Predict: No\n",
      "If Marital Status != Married:\n",
      "    If Refund == Yes:\n",
      "        Predict: No\n",
      "    If Refund != Yes:\n",
      "        If Taxable Income (K) <= 81.25:\n",
      "            Predict: No\n",
      "        If Taxable Income (K) > 81.25:\n",
      "            Predict: Yes\n"
     ]
    }
   ],
   "source": [
    "build_tree(df, \"Cheat\")"
   ]
  },
  {
   "cell_type": "code",
   "execution_count": 24,
   "metadata": {},
   "outputs": [
    {
     "name": "stdout",
     "output_type": "stream",
     "text": [
      "If upon <= 0.02:\n",
      "    If more <= 0.0235:\n",
      "        If a <= 0.25:\n",
      "            Predict: Madison\n",
      "        If a > 0.25:\n",
      "            Predict: Hamilton\n",
      "    If more > 0.0235:\n",
      "        Predict: Madison\n",
      "If upon > 0.02:\n",
      "    Predict: Hamilton\n"
     ]
    }
   ],
   "source": [
    "df_fedpapers = pd.read_csv(\"/workspaces/student-lecture-materials-jlin119/11-week11/data/federalistpapers.csv\")\n",
    "df_fedpapers = df_fedpapers[df_fedpapers['author'].isin(['Hamilton', 'Madison'])]\n",
    "build_tree(df_fedpapers, \"author\", max_depth = 6)"
   ]
  }
 ],
 "metadata": {
  "kernelspec": {
   "display_name": "Python 3",
   "language": "python",
   "name": "python3"
  },
  "language_info": {
   "codemirror_mode": {
    "name": "ipython",
    "version": 3
   },
   "file_extension": ".py",
   "mimetype": "text/x-python",
   "name": "python",
   "nbconvert_exporter": "python",
   "pygments_lexer": "ipython3",
   "version": "3.12.1"
  }
 },
 "nbformat": 4,
 "nbformat_minor": 2
}
