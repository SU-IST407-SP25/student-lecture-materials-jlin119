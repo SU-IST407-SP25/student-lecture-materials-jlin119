{
 "cells": [
  {
   "cell_type": "markdown",
   "metadata": {},
   "source": [
    "The following exercises use 2019 flight statistics from the United States Department of Transportation’s Bureau of Transportation Statistics (available [here](https://www.transtats.bts.gov/DL_SelectFields.asp?gnoyr_VQ=FMF&QO_fu146_anzr=Nv4%20Pn44vr45) and in this repository as `data/T100_MARKET_ALL_CARRIER.zip`). Each row contains information about a specific route for a given carrier in a given month (e.g., JFK &rarr; LAX on Delta Airlines in January). There are 321,409 rows and 41 columns. Note that you don't need to unzip the file to read it in with `pd.read_csv()`."
   ]
  },
  {
   "cell_type": "markdown",
   "metadata": {},
   "source": [
    "#### __Exercise 4__:\n",
    "\n",
    "Read in the data and convert the column names to lowercase to make them easier to work with."
   ]
  },
  {
   "cell_type": "code",
   "execution_count": 12,
   "metadata": {},
   "outputs": [
    {
     "data": {
      "text/html": [
       "<div>\n",
       "<style scoped>\n",
       "    .dataframe tbody tr th:only-of-type {\n",
       "        vertical-align: middle;\n",
       "    }\n",
       "\n",
       "    .dataframe tbody tr th {\n",
       "        vertical-align: top;\n",
       "    }\n",
       "\n",
       "    .dataframe thead th {\n",
       "        text-align: right;\n",
       "    }\n",
       "</style>\n",
       "<table border=\"1\" class=\"dataframe\">\n",
       "  <thead>\n",
       "    <tr style=\"text-align: right;\">\n",
       "      <th></th>\n",
       "      <th>passengers</th>\n",
       "      <th>freight</th>\n",
       "      <th>mail</th>\n",
       "      <th>distance</th>\n",
       "      <th>unique_carrier</th>\n",
       "      <th>airline_id</th>\n",
       "      <th>unique_carrier_name</th>\n",
       "      <th>unique_carrier_entity</th>\n",
       "      <th>region</th>\n",
       "      <th>carrier</th>\n",
       "      <th>...</th>\n",
       "      <th>dest_state_nm</th>\n",
       "      <th>dest_country</th>\n",
       "      <th>dest_country_name</th>\n",
       "      <th>dest_wac</th>\n",
       "      <th>year</th>\n",
       "      <th>quarter</th>\n",
       "      <th>month</th>\n",
       "      <th>distance_group</th>\n",
       "      <th>class</th>\n",
       "      <th>data_source</th>\n",
       "    </tr>\n",
       "  </thead>\n",
       "  <tbody>\n",
       "    <tr>\n",
       "      <th>0</th>\n",
       "      <td>0.0</td>\n",
       "      <td>53185.0</td>\n",
       "      <td>0.0</td>\n",
       "      <td>8165.0</td>\n",
       "      <td>EK</td>\n",
       "      <td>20392</td>\n",
       "      <td>Emirates</td>\n",
       "      <td>9678A</td>\n",
       "      <td>I</td>\n",
       "      <td>EK</td>\n",
       "      <td>...</td>\n",
       "      <td>Texas</td>\n",
       "      <td>US</td>\n",
       "      <td>United States</td>\n",
       "      <td>74</td>\n",
       "      <td>2019</td>\n",
       "      <td>1</td>\n",
       "      <td>3</td>\n",
       "      <td>17</td>\n",
       "      <td>G</td>\n",
       "      <td>IF</td>\n",
       "    </tr>\n",
       "    <tr>\n",
       "      <th>1</th>\n",
       "      <td>0.0</td>\n",
       "      <td>9002.0</td>\n",
       "      <td>0.0</td>\n",
       "      <td>6849.0</td>\n",
       "      <td>EK</td>\n",
       "      <td>20392</td>\n",
       "      <td>Emirates</td>\n",
       "      <td>9678A</td>\n",
       "      <td>I</td>\n",
       "      <td>EK</td>\n",
       "      <td>...</td>\n",
       "      <td>New York</td>\n",
       "      <td>US</td>\n",
       "      <td>United States</td>\n",
       "      <td>22</td>\n",
       "      <td>2019</td>\n",
       "      <td>1</td>\n",
       "      <td>3</td>\n",
       "      <td>14</td>\n",
       "      <td>G</td>\n",
       "      <td>IF</td>\n",
       "    </tr>\n",
       "    <tr>\n",
       "      <th>2</th>\n",
       "      <td>0.0</td>\n",
       "      <td>2220750.0</td>\n",
       "      <td>0.0</td>\n",
       "      <td>7247.0</td>\n",
       "      <td>EK</td>\n",
       "      <td>20392</td>\n",
       "      <td>Emirates</td>\n",
       "      <td>9678A</td>\n",
       "      <td>I</td>\n",
       "      <td>EK</td>\n",
       "      <td>...</td>\n",
       "      <td>Illinois</td>\n",
       "      <td>US</td>\n",
       "      <td>United States</td>\n",
       "      <td>41</td>\n",
       "      <td>2019</td>\n",
       "      <td>1</td>\n",
       "      <td>3</td>\n",
       "      <td>15</td>\n",
       "      <td>G</td>\n",
       "      <td>IF</td>\n",
       "    </tr>\n",
       "    <tr>\n",
       "      <th>3</th>\n",
       "      <td>0.0</td>\n",
       "      <td>1201490.0</td>\n",
       "      <td>0.0</td>\n",
       "      <td>8165.0</td>\n",
       "      <td>EK</td>\n",
       "      <td>20392</td>\n",
       "      <td>Emirates</td>\n",
       "      <td>9678A</td>\n",
       "      <td>I</td>\n",
       "      <td>EK</td>\n",
       "      <td>...</td>\n",
       "      <td>NaN</td>\n",
       "      <td>AE</td>\n",
       "      <td>United Arab Emirates</td>\n",
       "      <td>678</td>\n",
       "      <td>2019</td>\n",
       "      <td>1</td>\n",
       "      <td>3</td>\n",
       "      <td>17</td>\n",
       "      <td>G</td>\n",
       "      <td>IF</td>\n",
       "    </tr>\n",
       "    <tr>\n",
       "      <th>4</th>\n",
       "      <td>0.0</td>\n",
       "      <td>248642.0</td>\n",
       "      <td>0.0</td>\n",
       "      <td>6849.0</td>\n",
       "      <td>EK</td>\n",
       "      <td>20392</td>\n",
       "      <td>Emirates</td>\n",
       "      <td>9678A</td>\n",
       "      <td>I</td>\n",
       "      <td>EK</td>\n",
       "      <td>...</td>\n",
       "      <td>NaN</td>\n",
       "      <td>AE</td>\n",
       "      <td>United Arab Emirates</td>\n",
       "      <td>678</td>\n",
       "      <td>2019</td>\n",
       "      <td>1</td>\n",
       "      <td>3</td>\n",
       "      <td>14</td>\n",
       "      <td>G</td>\n",
       "      <td>IF</td>\n",
       "    </tr>\n",
       "  </tbody>\n",
       "</table>\n",
       "<p>5 rows × 41 columns</p>\n",
       "</div>"
      ],
      "text/plain": [
       "   passengers    freight  mail  distance unique_carrier  airline_id  \\\n",
       "0         0.0    53185.0   0.0    8165.0             EK       20392   \n",
       "1         0.0     9002.0   0.0    6849.0             EK       20392   \n",
       "2         0.0  2220750.0   0.0    7247.0             EK       20392   \n",
       "3         0.0  1201490.0   0.0    8165.0             EK       20392   \n",
       "4         0.0   248642.0   0.0    6849.0             EK       20392   \n",
       "\n",
       "  unique_carrier_name unique_carrier_entity region carrier  ... dest_state_nm  \\\n",
       "0            Emirates                 9678A      I      EK  ...         Texas   \n",
       "1            Emirates                 9678A      I      EK  ...      New York   \n",
       "2            Emirates                 9678A      I      EK  ...      Illinois   \n",
       "3            Emirates                 9678A      I      EK  ...           NaN   \n",
       "4            Emirates                 9678A      I      EK  ...           NaN   \n",
       "\n",
       "   dest_country     dest_country_name  dest_wac  year  quarter month  \\\n",
       "0            US         United States        74  2019        1     3   \n",
       "1            US         United States        22  2019        1     3   \n",
       "2            US         United States        41  2019        1     3   \n",
       "3            AE  United Arab Emirates       678  2019        1     3   \n",
       "4            AE  United Arab Emirates       678  2019        1     3   \n",
       "\n",
       "  distance_group class  data_source  \n",
       "0             17     G           IF  \n",
       "1             14     G           IF  \n",
       "2             15     G           IF  \n",
       "3             17     G           IF  \n",
       "4             14     G           IF  \n",
       "\n",
       "[5 rows x 41 columns]"
      ]
     },
     "execution_count": 12,
     "metadata": {},
     "output_type": "execute_result"
    }
   ],
   "source": [
    "import pandas as pd\n",
    "flight_df = pd.read_csv(\"/workspaces/student-lecture-materials-jlin119/3-week3/data/T100_MARKET_ALL_CARRIER.zip\")\n",
    "flight_df.columns = flight_df.columns.str.lower()\n",
    "flight_df.columns = flight_df.columns.str.replace(\" \", \"_\")\n",
    "# or flight_df.columns.str.lower().str.replace(\" \", \"_\")\n",
    "flight_df.head()"
   ]
  },
  {
   "cell_type": "markdown",
   "metadata": {},
   "source": [
    "#### __Exercise 5__:\n",
    "\n",
    "What columns are in the data?\n"
   ]
  },
  {
   "cell_type": "code",
   "execution_count": 13,
   "metadata": {},
   "outputs": [
    {
     "data": {
      "text/plain": [
       "Index(['passengers', 'freight', 'mail', 'distance', 'unique_carrier',\n",
       "       'airline_id', 'unique_carrier_name', 'unique_carrier_entity', 'region',\n",
       "       'carrier', 'carrier_name', 'carrier_group', 'carrier_group_new',\n",
       "       'origin_airport_id', 'origin_airport_seq_id', 'origin_city_market_id',\n",
       "       'origin', 'origin_city_name', 'origin_state_abr', 'origin_state_fips',\n",
       "       'origin_state_nm', 'origin_country', 'origin_country_name',\n",
       "       'origin_wac', 'dest_airport_id', 'dest_airport_seq_id',\n",
       "       'dest_city_market_id', 'dest', 'dest_city_name', 'dest_state_abr',\n",
       "       'dest_state_fips', 'dest_state_nm', 'dest_country', 'dest_country_name',\n",
       "       'dest_wac', 'year', 'quarter', 'month', 'distance_group', 'class',\n",
       "       'data_source'],\n",
       "      dtype='object')"
      ]
     },
     "execution_count": 13,
     "metadata": {},
     "output_type": "execute_result"
    }
   ],
   "source": [
    "flight_df.columns"
   ]
  },
  {
   "cell_type": "markdown",
   "metadata": {},
   "source": [
    "#### __Exercise 6__:\n",
    "\n",
    "How many distinct carrier names are in the dataset?"
   ]
  },
  {
   "cell_type": "code",
   "execution_count": 16,
   "metadata": {},
   "outputs": [
    {
     "data": {
      "text/plain": [
       "318"
      ]
     },
     "execution_count": 16,
     "metadata": {},
     "output_type": "execute_result"
    }
   ],
   "source": [
    "flight_df.unique_carrier_name.nunique()"
   ]
  },
  {
   "cell_type": "markdown",
   "metadata": {},
   "source": [
    "#### __Exercise 7__:\n",
    "\n",
    "Calculate the totals of the `freight`, `mail`, and `passengers` columns for flights from the United Kingdom to the United States."
   ]
  },
  {
   "cell_type": "code",
   "execution_count": 34,
   "metadata": {},
   "outputs": [
    {
     "data": {
      "text/html": [
       "<div>\n",
       "<style scoped>\n",
       "    .dataframe tbody tr th:only-of-type {\n",
       "        vertical-align: middle;\n",
       "    }\n",
       "\n",
       "    .dataframe tbody tr th {\n",
       "        vertical-align: top;\n",
       "    }\n",
       "\n",
       "    .dataframe thead th {\n",
       "        text-align: right;\n",
       "    }\n",
       "</style>\n",
       "<table border=\"1\" class=\"dataframe\">\n",
       "  <thead>\n",
       "    <tr style=\"text-align: right;\">\n",
       "      <th></th>\n",
       "      <th>index</th>\n",
       "      <th>total</th>\n",
       "    </tr>\n",
       "  </thead>\n",
       "  <tbody>\n",
       "    <tr>\n",
       "      <th>0</th>\n",
       "      <td>freight</td>\n",
       "      <td>903296879.0</td>\n",
       "    </tr>\n",
       "    <tr>\n",
       "      <th>1</th>\n",
       "      <td>mail</td>\n",
       "      <td>29838395.0</td>\n",
       "    </tr>\n",
       "    <tr>\n",
       "      <th>2</th>\n",
       "      <td>passengers</td>\n",
       "      <td>10685608.0</td>\n",
       "    </tr>\n",
       "  </tbody>\n",
       "</table>\n",
       "</div>"
      ],
      "text/plain": [
       "        index        total\n",
       "0     freight  903296879.0\n",
       "1        mail   29838395.0\n",
       "2  passengers   10685608.0"
      ]
     },
     "execution_count": 34,
     "metadata": {},
     "output_type": "execute_result"
    }
   ],
   "source": [
    "flight_filter = flight_df[(flight_df.origin_country_name == \"United Kingdom\") & (flight_df.dest_country_name == \"United States\")]\n",
    "flight_filter[['freight', 'mail', 'passengers']].sum().reset_index(name = \"total\")"
   ]
  },
  {
   "cell_type": "code",
   "execution_count": 30,
   "metadata": {},
   "outputs": [
    {
     "ename": "ValueError",
     "evalue": "expr must be a string to be evaluated, <class 'bool'> given",
     "output_type": "error",
     "traceback": [
      "\u001b[0;31m---------------------------------------------------------------------------\u001b[0m",
      "\u001b[0;31mValueError\u001b[0m                                Traceback (most recent call last)",
      "\u001b[0;32m/tmp/ipykernel_21952/1080660987.py\u001b[0m in \u001b[0;36m?\u001b[0;34m()\u001b[0m\n\u001b[0;32m----> 1\u001b[0;31m \u001b[0mfiltered\u001b[0m \u001b[0;34m=\u001b[0m \u001b[0mflight_df\u001b[0m\u001b[0;34m.\u001b[0m\u001b[0mquery\u001b[0m\u001b[0;34m(\u001b[0m\u001b[0;34m'origin_country_name'\u001b[0m \u001b[0;34m==\u001b[0m \u001b[0;34m\"United Kingdom\"\u001b[0m \u001b[0;32mand\u001b[0m \u001b[0;34m'dest_country_name'\u001b[0m \u001b[0;34m==\u001b[0m \u001b[0;34m\"United States\"\u001b[0m\u001b[0;34m)\u001b[0m\u001b[0;34m\u001b[0m\u001b[0;34m\u001b[0m\u001b[0m\n\u001b[0m\u001b[1;32m      2\u001b[0m \u001b[0mfiltered\u001b[0m\u001b[0;34m[\u001b[0m\u001b[0;34m[\u001b[0m\u001b[0;34m'freight'\u001b[0m\u001b[0;34m,\u001b[0m \u001b[0;34m'mail'\u001b[0m\u001b[0;34m,\u001b[0m \u001b[0;34m'passengers'\u001b[0m\u001b[0;34m]\u001b[0m\u001b[0;34m]\u001b[0m\u001b[0;34m\u001b[0m\u001b[0;34m\u001b[0m\u001b[0m\n",
      "\u001b[0;32m~/.local/lib/python3.12/site-packages/pandas/core/frame.py\u001b[0m in \u001b[0;36m?\u001b[0;34m(self, expr, inplace, **kwargs)\u001b[0m\n\u001b[1;32m   4816\u001b[0m         \"\"\"\n\u001b[1;32m   4817\u001b[0m         \u001b[0minplace\u001b[0m \u001b[0;34m=\u001b[0m \u001b[0mvalidate_bool_kwarg\u001b[0m\u001b[0;34m(\u001b[0m\u001b[0minplace\u001b[0m\u001b[0;34m,\u001b[0m \u001b[0;34m\"inplace\"\u001b[0m\u001b[0;34m)\u001b[0m\u001b[0;34m\u001b[0m\u001b[0;34m\u001b[0m\u001b[0m\n\u001b[1;32m   4818\u001b[0m         \u001b[0;32mif\u001b[0m \u001b[0;32mnot\u001b[0m \u001b[0misinstance\u001b[0m\u001b[0;34m(\u001b[0m\u001b[0mexpr\u001b[0m\u001b[0;34m,\u001b[0m \u001b[0mstr\u001b[0m\u001b[0;34m)\u001b[0m\u001b[0;34m:\u001b[0m\u001b[0;34m\u001b[0m\u001b[0;34m\u001b[0m\u001b[0m\n\u001b[1;32m   4819\u001b[0m             \u001b[0mmsg\u001b[0m \u001b[0;34m=\u001b[0m \u001b[0;34mf\"\u001b[0m\u001b[0;34mexpr must be a string to be evaluated, \u001b[0m\u001b[0;34m{\u001b[0m\u001b[0mtype\u001b[0m\u001b[0;34m(\u001b[0m\u001b[0mexpr\u001b[0m\u001b[0;34m)\u001b[0m\u001b[0;34m}\u001b[0m\u001b[0;34m given\u001b[0m\u001b[0;34m\"\u001b[0m\u001b[0;34m\u001b[0m\u001b[0;34m\u001b[0m\u001b[0m\n\u001b[0;32m-> 4820\u001b[0;31m             \u001b[0;32mraise\u001b[0m \u001b[0mValueError\u001b[0m\u001b[0;34m(\u001b[0m\u001b[0mmsg\u001b[0m\u001b[0;34m)\u001b[0m\u001b[0;34m\u001b[0m\u001b[0;34m\u001b[0m\u001b[0m\n\u001b[0m\u001b[1;32m   4821\u001b[0m         \u001b[0mkwargs\u001b[0m\u001b[0;34m[\u001b[0m\u001b[0;34m\"level\"\u001b[0m\u001b[0;34m]\u001b[0m \u001b[0;34m=\u001b[0m \u001b[0mkwargs\u001b[0m\u001b[0;34m.\u001b[0m\u001b[0mpop\u001b[0m\u001b[0;34m(\u001b[0m\u001b[0;34m\"level\"\u001b[0m\u001b[0;34m,\u001b[0m \u001b[0;36m0\u001b[0m\u001b[0;34m)\u001b[0m \u001b[0;34m+\u001b[0m \u001b[0;36m1\u001b[0m\u001b[0;34m\u001b[0m\u001b[0;34m\u001b[0m\u001b[0m\n\u001b[1;32m   4822\u001b[0m         \u001b[0mkwargs\u001b[0m\u001b[0;34m[\u001b[0m\u001b[0;34m\"target\"\u001b[0m\u001b[0;34m]\u001b[0m \u001b[0;34m=\u001b[0m \u001b[0;32mNone\u001b[0m\u001b[0;34m\u001b[0m\u001b[0;34m\u001b[0m\u001b[0m\n\u001b[1;32m   4823\u001b[0m         \u001b[0mres\u001b[0m \u001b[0;34m=\u001b[0m \u001b[0mself\u001b[0m\u001b[0;34m.\u001b[0m\u001b[0meval\u001b[0m\u001b[0;34m(\u001b[0m\u001b[0mexpr\u001b[0m\u001b[0;34m,\u001b[0m \u001b[0;34m**\u001b[0m\u001b[0mkwargs\u001b[0m\u001b[0;34m)\u001b[0m\u001b[0;34m\u001b[0m\u001b[0;34m\u001b[0m\u001b[0m\n",
      "\u001b[0;31mValueError\u001b[0m: expr must be a string to be evaluated, <class 'bool'> given"
     ]
    }
   ],
   "source": [
    "filtered = flight_df.query('origin_country_name' == \"United Kingdom\" and 'dest_country_name' == \"United States\")\n",
    "filtered[['freight', 'mail', 'passengers']].sum().reset_index(name = \"total\")\n",
    "# reset_index(name = string) to convert series to dataframe"
   ]
  }
 ],
 "metadata": {
  "kernelspec": {
   "display_name": "Python 3",
   "language": "python",
   "name": "python3"
  },
  "language_info": {
   "codemirror_mode": {
    "name": "ipython",
    "version": 3
   },
   "file_extension": ".py",
   "mimetype": "text/x-python",
   "name": "python",
   "nbconvert_exporter": "python",
   "pygments_lexer": "ipython3",
   "version": "3.12.1"
  }
 },
 "nbformat": 4,
 "nbformat_minor": 2
}
